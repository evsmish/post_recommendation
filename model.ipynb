{
 "cells": [
  {
   "cell_type": "code",
   "execution_count": 1,
   "id": "baf26785",
   "metadata": {
    "execution": {
     "iopub.execute_input": "2023-03-02T16:56:33.409736Z",
     "iopub.status.busy": "2023-03-02T16:56:33.408236Z",
     "iopub.status.idle": "2023-03-02T16:56:47.437319Z",
     "shell.execute_reply": "2023-03-02T16:56:47.436205Z",
     "shell.execute_reply.started": "2023-03-02T16:56:33.409631Z"
    }
   },
   "outputs": [],
   "source": [
    "import warnings\n",
    "\n",
    "import pandas as pd \n",
    "import numpy as np\n",
    "import seaborn as sns\n",
    "import matplotlib.pyplot as plt\n",
    "import datetime\n",
    "import re\n",
    "\n",
    "from catboost import CatBoostClassifier, Pool\n",
    "from sklearn.metrics import roc_auc_score\n",
    "from sklearn.decomposition import PCA\n",
    "from sklearn.cluster import KMeans\n",
    "from sklearn.feature_selection import VarianceThreshold\n",
    "\n",
    "import torch\n",
    "from tqdm import tqdm\n",
    "\n",
    "from torch.utils.data import Dataset\n",
    "from torch.utils.data import DataLoader\n",
    "from transformers import DataCollatorWithPadding\n",
    "from transformers import AutoTokenizer, DistilBertModel \n",
    "\n",
    "pd.options.display.max_columns = 100\n"
   ]
  },
  {
   "cell_type": "code",
   "execution_count": 2,
   "id": "3bbc3d45",
   "metadata": {
    "execution": {
     "iopub.execute_input": "2023-03-02T16:56:47.439720Z",
     "iopub.status.busy": "2023-03-02T16:56:47.439351Z",
     "iopub.status.idle": "2023-03-02T16:56:47.451595Z",
     "shell.execute_reply": "2023-03-02T16:56:47.450476Z",
     "shell.execute_reply.started": "2023-03-02T16:56:47.439683Z"
    }
   },
   "outputs": [],
   "source": [
    "import matplotlib as mlp\n",
    "\n",
    "mlp.rcParams['lines.linewidth'] = 5\n",
    "\n",
    "mlp.rcParams['xtick.major.size'] = 20\n",
    "mlp.rcParams['xtick.major.width'] = 5\n",
    "mlp.rcParams['xtick.labelsize'] = 20\n",
    "mlp.rcParams['xtick.color'] = '#FF5533'\n",
    "\n",
    "mlp.rcParams['ytick.major.size'] = 20\n",
    "mlp.rcParams['ytick.major.width'] = 5\n",
    "mlp.rcParams['ytick.labelsize'] = 20\n",
    "mlp.rcParams['ytick.color'] = '#FF5533'\n",
    "\n",
    "mlp.rcParams['axes.labelsize'] = 20\n",
    "mlp.rcParams['axes.titlesize'] = 20\n",
    "mlp.rcParams['axes.titlecolor'] = '#00B050'\n",
    "mlp.rcParams['axes.labelcolor'] = '#00B050'"
   ]
  },
  {
   "cell_type": "markdown",
   "id": "c07c2824",
   "metadata": {},
   "source": [
    "# Feature preparation"
   ]
  },
  {
   "cell_type": "markdown",
   "id": "3b47bffe",
   "metadata": {},
   "source": [
    "Loading data"
   ]
  },
  {
   "cell_type": "code",
   "execution_count": 3,
   "id": "cf5c782c",
   "metadata": {
    "collapsed": true,
    "execution": {
     "iopub.execute_input": "2023-03-02T16:56:47.453504Z",
     "iopub.status.busy": "2023-03-02T16:56:47.453060Z",
     "iopub.status.idle": "2023-03-02T16:56:58.880058Z",
     "shell.execute_reply": "2023-03-02T16:56:58.878963Z",
     "shell.execute_reply.started": "2023-03-02T16:56:47.453443Z"
    },
    "jupyter": {
     "outputs_hidden": true
    }
   },
   "outputs": [
    {
     "name": "stdout",
     "output_type": "stream",
     "text": [
      "Collecting psycopg2-binary\n",
      "  Downloading psycopg2_binary-2.9.5-cp37-cp37m-manylinux_2_17_x86_64.manylinux2014_x86_64.whl (3.0 MB)\n",
      "\u001b[2K     \u001b[90m━━━━━━━━━━━━━━━━━━━━━━━━━━━━━━━━━━━━━━━━\u001b[0m \u001b[32m3.0/3.0 MB\u001b[0m \u001b[31m8.0 MB/s\u001b[0m eta \u001b[36m0:00:00\u001b[0m00:01\u001b[0m00:01\u001b[0m\n",
      "\u001b[?25hInstalling collected packages: psycopg2-binary\n",
      "Successfully installed psycopg2-binary-2.9.5\n",
      "\u001b[33mWARNING: Running pip as the 'root' user can result in broken permissions and conflicting behaviour with the system package manager. It is recommended to use a virtual environment instead: https://pip.pypa.io/warnings/venv\u001b[0m\u001b[33m\n",
      "\u001b[0mNote: you may need to restart the kernel to use updated packages.\n"
     ]
    }
   ],
   "source": [
    "pip install psycopg2-binary"
   ]
  },
  {
   "cell_type": "code",
   "execution_count": 4,
   "id": "6b724404",
   "metadata": {
    "execution": {
     "iopub.execute_input": "2023-03-02T16:56:58.882973Z",
     "iopub.status.busy": "2023-03-02T16:56:58.882677Z",
     "iopub.status.idle": "2023-03-02T16:57:19.215019Z",
     "shell.execute_reply": "2023-03-02T16:57:19.213944Z",
     "shell.execute_reply.started": "2023-03-02T16:56:58.882941Z"
    }
   },
   "outputs": [],
   "source": [
    "# Set up connection string\n",
    "connection = ('There must be login and password to access server')\n",
    "\n",
    "# users info\n",
    "users = pd.read_sql(\n",
    "    \"\"\"\n",
    "    SELECT * \n",
    "      FROM public.user_data\n",
    "    \n",
    "    \"\"\",\n",
    "    con=connection\n",
    ")\n",
    "\n",
    "# posts info\n",
    "posts = pd.read_sql(\n",
    "    \"\"\"\n",
    "    SELECT * \n",
    "      FROM public.post_text_df\n",
    "    \n",
    "    \"\"\",\n",
    "    con=connection\n",
    ")\n",
    "\n",
    "# feed data\n",
    "# action = 'veiw' is target: 1 - like, 0 - just view\n",
    "feed = pd.read_sql(\n",
    "    \"\"\"\n",
    "    SELECT * \n",
    "      FROM public.feed_data \n",
    "     WHERE public.feed_data.action = 'view' \n",
    "     LIMIT 1000000\n",
    "     \n",
    "    \"\"\",\n",
    "    con=connection\n",
    ")"
   ]
  },
  {
   "cell_type": "code",
   "execution_count": 5,
   "id": "3a34f654",
   "metadata": {
    "execution": {
     "iopub.execute_input": "2023-03-02T16:57:19.216876Z",
     "iopub.status.busy": "2023-03-02T16:57:19.216470Z",
     "iopub.status.idle": "2023-03-02T16:59:33.272045Z",
     "shell.execute_reply": "2023-03-02T16:59:33.270620Z",
     "shell.execute_reply.started": "2023-03-02T16:57:19.216838Z"
    }
   },
   "outputs": [],
   "source": [
    "# Get additional data\n",
    "\n",
    "# user's activity and likes\n",
    "user_likes = pd.read_sql(\n",
    "    \"\"\"\n",
    "    SELECT\n",
    "        public.feed_data.user_id \"user_id\", \n",
    "        count(public.feed_data.target) + sum(public.feed_data.target) \"total_user_activity\", \n",
    "        sum(public.feed_data.target) \"user_likes\"\n",
    "    FROM \n",
    "        public.feed_data \n",
    "    LEFT JOIN \n",
    "        public.user_data on public.user_data.user_id = public.feed_data.user_id \n",
    "    WHERE \n",
    "        public.feed_data.action = 'view' \n",
    "    GROUP BY \n",
    "        public.feed_data.user_id\n",
    "   \n",
    "    \"\"\",\n",
    "    con=connection\n",
    ")\n",
    "\n",
    "# post's category likes \n",
    "user_cat_likes = pd.read_sql(\n",
    "    \"\"\"\n",
    "    SELECT \n",
    "        public.feed_data.user_id \"user_id\", \n",
    "        public.post_text_df.topic \"topic\",\n",
    "        sum(public.feed_data.target) \"category_likes\"\n",
    "    FROM \n",
    "        public.feed_data \n",
    "    LEFT JOIN \n",
    "        public.post_text_df on public.feed_data.post_id = public.post_text_df.post_id \n",
    "    WHERE\n",
    "        public.feed_data.action = 'view' \n",
    "    GROUP BY \n",
    "        public.feed_data.user_id, public.post_text_df.topic\n",
    "    HAVING \n",
    "        sum(public.feed_data.target) != 0\n",
    "   \n",
    "    \"\"\",\n",
    "    con=connection\n",
    ")\n",
    "\n",
    "# mean target for cities \n",
    "city_means_target = pd.read_sql(\n",
    "    \"\"\"\n",
    "    SELECT\n",
    "        public.user_data.city \"city\", \n",
    "        sum(public.feed_data.target) \"target_city_likes\",\n",
    "        count(public.feed_data.target) \"target_city_activity\"\n",
    "    FROM \n",
    "        public.feed_data \n",
    "    LEFT JOIN \n",
    "        public.user_data on public.user_data.user_id = public.feed_data.user_id \n",
    "    WHERE \n",
    "        public.feed_data.action = 'view' \n",
    "    GROUP BY\n",
    "        public.user_data.city\n",
    "   \n",
    "    \"\"\",\n",
    "    con=connection\n",
    ")\n",
    "\n",
    "# mean target for coutries\n",
    "country_means_target = pd.read_sql(\n",
    "    \"\"\"\n",
    "    SELECT\n",
    "        public.user_data.country \"country\", \n",
    "        sum(public.feed_data.target) \"target_country_likes\",\n",
    "        count(public.feed_data.target) \"target_country_activity\"\n",
    "    FROM \n",
    "        public.feed_data \n",
    "    LEFT JOIN \n",
    "        public.user_data on public.user_data.user_id = public.feed_data.user_id \n",
    "    WHERE\n",
    "        public.feed_data.action = 'view' \n",
    "    GROUP BY \n",
    "        public.user_data.country\n",
    "\n",
    "    \"\"\",\n",
    "    con=connection\n",
    ")"
   ]
  },
  {
   "cell_type": "markdown",
   "id": "bc14a17c",
   "metadata": {},
   "source": [
    "### users"
   ]
  },
  {
   "cell_type": "code",
   "execution_count": 6,
   "id": "1c111b0e",
   "metadata": {
    "execution": {
     "iopub.execute_input": "2023-03-02T16:59:33.274583Z",
     "iopub.status.busy": "2023-03-02T16:59:33.273885Z",
     "iopub.status.idle": "2023-03-02T16:59:40.743600Z",
     "shell.execute_reply": "2023-03-02T16:59:40.742538Z",
     "shell.execute_reply.started": "2023-03-02T16:59:33.274543Z"
    }
   },
   "outputs": [],
   "source": [
    "# find favourite user's category\n",
    "user_fav_cat = (\n",
    "    user_cat_likes\n",
    "    .loc[user_cat_likes.groupby('user_id')['category_likes'].idxmax()]\n",
    "    .drop('category_likes', axis=1)\n",
    "    .rename(columns={'topic' : 'fav_category'})\n",
    ")\n",
    "\n",
    "# merging users and likes\n",
    "user_data = users.merge(user_likes, how='left', on='user_id')\n",
    "# find share of likes to total activity\n",
    "user_data['share_of_likes'] = user_data['user_likes']/user_data['total_user_activity']\n",
    "# adding data for your favorite category\n",
    "user_data = user_data.merge(user_fav_cat, how='left', on='user_id')\n",
    "# merging city mean target\n",
    "user_data = user_data.merge(city_means_target, how='left', on='city')\n",
    "# making a column with an mean target for the city\n",
    "user_data['city'] = user_data.target_city_likes/user_data.target_city_activity\n",
    "# adding data on the mean target for country\n",
    "user_data = user_data.merge(country_means_target, how='left', on='country')\n",
    "# making a column with an mean target for the country\n",
    "user_data['country'] = user_data.target_country_likes/user_data.target_country_activity\n",
    "\n",
    "# removing unnecessary columns to eliminate collinearity\n",
    "user_data = user_data.drop([\n",
    "    'user_likes', 'target_city_likes', \n",
    "    'target_city_activity', 'country',\n",
    "    'target_country_likes', 'target_country_activity'\n",
    "], axis=1)"
   ]
  },
  {
   "cell_type": "code",
   "execution_count": 7,
   "id": "e1e92bf2",
   "metadata": {
    "execution": {
     "iopub.execute_input": "2023-03-02T16:59:40.745752Z",
     "iopub.status.busy": "2023-03-02T16:59:40.745339Z",
     "iopub.status.idle": "2023-03-02T16:59:40.765636Z",
     "shell.execute_reply": "2023-03-02T16:59:40.764555Z",
     "shell.execute_reply.started": "2023-03-02T16:59:40.745702Z"
    }
   },
   "outputs": [
    {
     "data": {
      "text/html": [
       "<div>\n",
       "<style scoped>\n",
       "    .dataframe tbody tr th:only-of-type {\n",
       "        vertical-align: middle;\n",
       "    }\n",
       "\n",
       "    .dataframe tbody tr th {\n",
       "        vertical-align: top;\n",
       "    }\n",
       "\n",
       "    .dataframe thead th {\n",
       "        text-align: right;\n",
       "    }\n",
       "</style>\n",
       "<table border=\"1\" class=\"dataframe\">\n",
       "  <thead>\n",
       "    <tr style=\"text-align: right;\">\n",
       "      <th></th>\n",
       "      <th>user_id</th>\n",
       "      <th>gender</th>\n",
       "      <th>age</th>\n",
       "      <th>city</th>\n",
       "      <th>exp_group</th>\n",
       "      <th>os</th>\n",
       "      <th>source</th>\n",
       "      <th>total_user_activity</th>\n",
       "      <th>share_of_likes</th>\n",
       "      <th>fav_category</th>\n",
       "    </tr>\n",
       "  </thead>\n",
       "  <tbody>\n",
       "    <tr>\n",
       "      <th>0</th>\n",
       "      <td>200</td>\n",
       "      <td>1</td>\n",
       "      <td>34</td>\n",
       "      <td>0.130946</td>\n",
       "      <td>3</td>\n",
       "      <td>Android</td>\n",
       "      <td>ads</td>\n",
       "      <td>401</td>\n",
       "      <td>0.107232</td>\n",
       "      <td>movie</td>\n",
       "    </tr>\n",
       "    <tr>\n",
       "      <th>1</th>\n",
       "      <td>201</td>\n",
       "      <td>0</td>\n",
       "      <td>37</td>\n",
       "      <td>0.137729</td>\n",
       "      <td>0</td>\n",
       "      <td>Android</td>\n",
       "      <td>ads</td>\n",
       "      <td>748</td>\n",
       "      <td>0.077540</td>\n",
       "      <td>movie</td>\n",
       "    </tr>\n",
       "    <tr>\n",
       "      <th>2</th>\n",
       "      <td>202</td>\n",
       "      <td>1</td>\n",
       "      <td>17</td>\n",
       "      <td>0.151418</td>\n",
       "      <td>4</td>\n",
       "      <td>Android</td>\n",
       "      <td>ads</td>\n",
       "      <td>724</td>\n",
       "      <td>0.120166</td>\n",
       "      <td>movie</td>\n",
       "    </tr>\n",
       "    <tr>\n",
       "      <th>3</th>\n",
       "      <td>203</td>\n",
       "      <td>0</td>\n",
       "      <td>18</td>\n",
       "      <td>0.154799</td>\n",
       "      <td>1</td>\n",
       "      <td>iOS</td>\n",
       "      <td>ads</td>\n",
       "      <td>382</td>\n",
       "      <td>0.159686</td>\n",
       "      <td>movie</td>\n",
       "    </tr>\n",
       "    <tr>\n",
       "      <th>4</th>\n",
       "      <td>204</td>\n",
       "      <td>0</td>\n",
       "      <td>36</td>\n",
       "      <td>0.138011</td>\n",
       "      <td>3</td>\n",
       "      <td>Android</td>\n",
       "      <td>ads</td>\n",
       "      <td>161</td>\n",
       "      <td>0.142857</td>\n",
       "      <td>movie</td>\n",
       "    </tr>\n",
       "  </tbody>\n",
       "</table>\n",
       "</div>"
      ],
      "text/plain": [
       "   user_id  gender  age      city  exp_group       os source  \\\n",
       "0      200       1   34  0.130946          3  Android    ads   \n",
       "1      201       0   37  0.137729          0  Android    ads   \n",
       "2      202       1   17  0.151418          4  Android    ads   \n",
       "3      203       0   18  0.154799          1      iOS    ads   \n",
       "4      204       0   36  0.138011          3  Android    ads   \n",
       "\n",
       "   total_user_activity  share_of_likes fav_category  \n",
       "0                  401        0.107232        movie  \n",
       "1                  748        0.077540        movie  \n",
       "2                  724        0.120166        movie  \n",
       "3                  382        0.159686        movie  \n",
       "4                  161        0.142857        movie  "
      ]
     },
     "execution_count": 7,
     "metadata": {},
     "output_type": "execute_result"
    }
   ],
   "source": [
    "user_data.head()"
   ]
  },
  {
   "cell_type": "markdown",
   "id": "328eea65",
   "metadata": {},
   "source": [
    "### posts"
   ]
  },
  {
   "cell_type": "markdown",
   "id": "ce10bdc5",
   "metadata": {},
   "source": [
    "Let's get posts' embeddings"
   ]
  },
  {
   "cell_type": "code",
   "execution_count": 8,
   "id": "64eace76",
   "metadata": {
    "collapsed": true,
    "execution": {
     "iopub.execute_input": "2023-03-02T16:59:40.767498Z",
     "iopub.status.busy": "2023-03-02T16:59:40.767007Z",
     "iopub.status.idle": "2023-03-02T16:59:49.785586Z",
     "shell.execute_reply": "2023-03-02T16:59:49.784534Z",
     "shell.execute_reply.started": "2023-03-02T16:59:40.767442Z"
    },
    "jupyter": {
     "outputs_hidden": true
    }
   },
   "outputs": [
    {
     "data": {
      "application/vnd.jupyter.widget-view+json": {
       "model_id": "40d492960aeb4c6888b4992bc8724856",
       "version_major": 2,
       "version_minor": 0
      },
      "text/plain": [
       "Downloading (…)okenizer_config.json:   0%|          | 0.00/29.0 [00:00<?, ?B/s]"
      ]
     },
     "metadata": {},
     "output_type": "display_data"
    },
    {
     "data": {
      "application/vnd.jupyter.widget-view+json": {
       "model_id": "e998e8163465488494eb7ea7f9b53c55",
       "version_major": 2,
       "version_minor": 0
      },
      "text/plain": [
       "Downloading (…)lve/main/config.json:   0%|          | 0.00/411 [00:00<?, ?B/s]"
      ]
     },
     "metadata": {},
     "output_type": "display_data"
    },
    {
     "data": {
      "application/vnd.jupyter.widget-view+json": {
       "model_id": "7158ad227ccc4619ac21ef03b673a1be",
       "version_major": 2,
       "version_minor": 0
      },
      "text/plain": [
       "Downloading (…)solve/main/vocab.txt:   0%|          | 0.00/213k [00:00<?, ?B/s]"
      ]
     },
     "metadata": {},
     "output_type": "display_data"
    },
    {
     "data": {
      "application/vnd.jupyter.widget-view+json": {
       "model_id": "aba00da789774230806edd2cf2e205bf",
       "version_major": 2,
       "version_minor": 0
      },
      "text/plain": [
       "Downloading (…)/main/tokenizer.json:   0%|          | 0.00/436k [00:00<?, ?B/s]"
      ]
     },
     "metadata": {},
     "output_type": "display_data"
    },
    {
     "data": {
      "application/vnd.jupyter.widget-view+json": {
       "model_id": "ccc58977600d4603b83227de6c0df60f",
       "version_major": 2,
       "version_minor": 0
      },
      "text/plain": [
       "Downloading (…)\"pytorch_model.bin\";:   0%|          | 0.00/263M [00:00<?, ?B/s]"
      ]
     },
     "metadata": {},
     "output_type": "display_data"
    },
    {
     "name": "stderr",
     "output_type": "stream",
     "text": [
      "Some weights of the model checkpoint at distilbert-base-cased were not used when initializing DistilBertModel: ['vocab_layer_norm.bias', 'vocab_transform.bias', 'vocab_layer_norm.weight', 'vocab_transform.weight', 'vocab_projector.bias', 'vocab_projector.weight']\n",
      "- This IS expected if you are initializing DistilBertModel from the checkpoint of a model trained on another task or with another architecture (e.g. initializing a BertForSequenceClassification model from a BertForPreTraining model).\n",
      "- This IS NOT expected if you are initializing DistilBertModel from the checkpoint of a model that you expect to be exactly identical (initializing a BertForSequenceClassification model from a BertForSequenceClassification model).\n"
     ]
    }
   ],
   "source": [
    "tokenizer=AutoTokenizer.from_pretrained('distilbert-base-cased')\n",
    "model=DistilBertModel.from_pretrained('distilbert-base-cased')"
   ]
  },
  {
   "cell_type": "code",
   "execution_count": 9,
   "id": "7fdc8b34",
   "metadata": {
    "execution": {
     "iopub.execute_input": "2023-03-02T16:59:49.788079Z",
     "iopub.status.busy": "2023-03-02T16:59:49.787024Z",
     "iopub.status.idle": "2023-03-02T16:59:58.935578Z",
     "shell.execute_reply": "2023-03-02T16:59:58.934496Z",
     "shell.execute_reply.started": "2023-03-02T16:59:49.788037Z"
    }
   },
   "outputs": [
    {
     "name": "stderr",
     "output_type": "stream",
     "text": [
      "You're using a DistilBertTokenizerFast tokenizer. Please note that with a fast tokenizer, using the `__call__` method is faster than using a method to encode the text followed by a call to the `pad` method to get a padded encoding.\n"
     ]
    },
    {
     "data": {
      "text/plain": [
       "{'input_ids': tensor([[  101,  1993,  4190,  ...,     0,     0,     0],\n",
       "        [  101, 15386,  1116,  ...,  1300,  1107,   102],\n",
       "        [  101,  3141,   186,  ..., 14099,  8478,   102],\n",
       "        ...,\n",
       "        [  101, 16972, 20647,  ...,     0,     0,     0],\n",
       "        [  101,   137,   188,  ...,     0,     0,     0],\n",
       "        [  101,   144, 22731,  ...,     0,     0,     0]]), 'attention_mask': tensor([[1, 1, 1,  ..., 0, 0, 0],\n",
       "        [1, 1, 1,  ..., 1, 1, 1],\n",
       "        [1, 1, 1,  ..., 1, 1, 1],\n",
       "        ...,\n",
       "        [1, 1, 1,  ..., 0, 0, 0],\n",
       "        [1, 1, 1,  ..., 0, 0, 0],\n",
       "        [1, 1, 1,  ..., 0, 0, 0]])}"
      ]
     },
     "execution_count": 9,
     "metadata": {},
     "output_type": "execute_result"
    }
   ],
   "source": [
    "# making a dataset for posts\n",
    "class PostDataset(Dataset):\n",
    "    def __init__(self, texts, tokenizer):\n",
    "        super().__init__()\n",
    "\n",
    "        self.texts = tokenizer.batch_encode_plus(\n",
    "            texts,\n",
    "            add_special_tokens=True,\n",
    "            return_token_type_ids=False,\n",
    "            return_tensors='pt',\n",
    "            truncation=True,\n",
    "            padding=True\n",
    "        )\n",
    "        self.tokenizer = tokenizer\n",
    "\n",
    "    def __getitem__(self, idx):\n",
    "        return {\n",
    "            'input_ids': self.texts['input_ids'][idx], \n",
    "            'attention_mask': self.texts['attention_mask'][idx]\n",
    "        }\n",
    "\n",
    "    def __len__(self):\n",
    "        return len(self.texts['input_ids'])\n",
    "    \n",
    "    \n",
    "dataset = PostDataset(posts['text'].values.tolist(), tokenizer)\n",
    "\n",
    "data_collator = DataCollatorWithPadding(tokenizer=tokenizer)\n",
    "\n",
    "loader = DataLoader(dataset, batch_size=32, collate_fn=data_collator, pin_memory=True, shuffle=False)\n",
    "\n",
    "b = next(iter(loader))\n",
    "\n",
    "b"
   ]
  },
  {
   "cell_type": "code",
   "execution_count": 10,
   "id": "ac278225",
   "metadata": {
    "execution": {
     "iopub.execute_input": "2023-03-02T16:59:58.940283Z",
     "iopub.status.busy": "2023-03-02T16:59:58.939987Z",
     "iopub.status.idle": "2023-03-02T16:59:58.946872Z",
     "shell.execute_reply": "2023-03-02T16:59:58.945792Z",
     "shell.execute_reply.started": "2023-03-02T16:59:58.940256Z"
    }
   },
   "outputs": [],
   "source": [
    "@torch.inference_mode()\n",
    "def get_embeddings_labels(model, loader):\n",
    "    model.eval()\n",
    "    \n",
    "    total_embeddings = []\n",
    "    \n",
    "    for batch in tqdm(loader):\n",
    "        batch = {key: batch[key].to(device) for key in ['attention_mask', 'input_ids']}\n",
    "\n",
    "        embeddings = model(**batch)['last_hidden_state'][:, 0, :]\n",
    "\n",
    "        total_embeddings.append(embeddings.cpu())\n",
    "\n",
    "    return torch.cat(total_embeddings, dim=0)"
   ]
  },
  {
   "cell_type": "code",
   "execution_count": 11,
   "id": "a077616d",
   "metadata": {
    "execution": {
     "iopub.execute_input": "2023-03-02T16:59:58.949166Z",
     "iopub.status.busy": "2023-03-02T16:59:58.948515Z",
     "iopub.status.idle": "2023-03-02T16:59:59.051408Z",
     "shell.execute_reply": "2023-03-02T16:59:59.050109Z",
     "shell.execute_reply.started": "2023-03-02T16:59:58.949127Z"
    }
   },
   "outputs": [
    {
     "name": "stdout",
     "output_type": "stream",
     "text": [
      "cuda:0\n",
      "Tesla P100-PCIE-16GB\n"
     ]
    }
   ],
   "source": [
    "device = torch.device('cuda:0' if torch.cuda.is_available() else 'cpu')\n",
    "\n",
    "print(device)\n",
    "print(torch.cuda.get_device_name())\n",
    "\n",
    "model = model.to(device)"
   ]
  },
  {
   "cell_type": "code",
   "execution_count": 12,
   "id": "7193c493",
   "metadata": {
    "execution": {
     "iopub.execute_input": "2023-03-02T16:59:59.053527Z",
     "iopub.status.busy": "2023-03-02T16:59:59.053120Z",
     "iopub.status.idle": "2023-03-02T17:00:58.219679Z",
     "shell.execute_reply": "2023-03-02T17:00:58.218545Z",
     "shell.execute_reply.started": "2023-03-02T16:59:59.053470Z"
    }
   },
   "outputs": [
    {
     "name": "stderr",
     "output_type": "stream",
     "text": [
      "100%|██████████| 220/220 [00:59<00:00,  3.72it/s]\n"
     ]
    },
    {
     "data": {
      "text/plain": [
       "array([[ 3.63150865e-01,  4.89376076e-02, -2.64081180e-01, ...,\n",
       "        -1.41593322e-01,  1.59181338e-02,  9.17690195e-05],\n",
       "       [ 2.36416355e-01, -1.59500718e-01, -3.27798098e-01, ...,\n",
       "        -2.89936095e-01,  1.19365320e-01, -1.62343075e-03],\n",
       "       [ 3.75191331e-01, -1.13944076e-01, -2.40547031e-01, ...,\n",
       "        -3.38919759e-01,  5.86940572e-02, -2.12656837e-02],\n",
       "       ...,\n",
       "       [ 3.40382695e-01,  6.64923638e-02, -1.63184494e-01, ...,\n",
       "        -8.65628794e-02,  2.03403875e-01,  3.20906416e-02],\n",
       "       [ 4.32091892e-01,  1.10916262e-02, -1.17306069e-01, ...,\n",
       "         7.54015967e-02,  1.02739766e-01,  1.52742090e-02],\n",
       "       [ 3.04277748e-01, -7.62156770e-02, -6.77585602e-02, ...,\n",
       "        -5.43488115e-02,  2.44383752e-01, -1.41487354e-02]], dtype=float32)"
      ]
     },
     "execution_count": 12,
     "metadata": {},
     "output_type": "execute_result"
    }
   ],
   "source": [
    "embeddings = get_embeddings_labels(model, loader).numpy()\n",
    "\n",
    "embeddings"
   ]
  },
  {
   "cell_type": "code",
   "execution_count": 13,
   "id": "6578bcba",
   "metadata": {
    "execution": {
     "iopub.execute_input": "2023-03-02T17:00:58.222808Z",
     "iopub.status.busy": "2023-03-02T17:00:58.221301Z",
     "iopub.status.idle": "2023-03-02T17:00:58.234841Z",
     "shell.execute_reply": "2023-03-02T17:00:58.233715Z",
     "shell.execute_reply.started": "2023-03-02T17:00:58.222764Z"
    }
   },
   "outputs": [],
   "source": [
    "posts['MaxTfIdf'] = embeddings.max(axis=1)\n",
    "posts['MeanTfIdf'] = embeddings.mean(axis=1)"
   ]
  },
  {
   "cell_type": "markdown",
   "id": "7181a0fa",
   "metadata": {},
   "source": [
    "Trying to cluster texts"
   ]
  },
  {
   "cell_type": "code",
   "execution_count": 14,
   "id": "adf43573",
   "metadata": {
    "execution": {
     "iopub.execute_input": "2023-03-02T17:00:58.236799Z",
     "iopub.status.busy": "2023-03-02T17:00:58.236386Z",
     "iopub.status.idle": "2023-03-02T17:00:58.463512Z",
     "shell.execute_reply": "2023-03-02T17:00:58.461946Z",
     "shell.execute_reply.started": "2023-03-02T17:00:58.236752Z"
    }
   },
   "outputs": [],
   "source": [
    "centered = embeddings - embeddings.mean()\n",
    "\n",
    "pca = PCA(n_components=20)\n",
    "pca_decomp = pca.fit_transform(centered)"
   ]
  },
  {
   "cell_type": "code",
   "execution_count": 15,
   "id": "b3152a84",
   "metadata": {
    "execution": {
     "iopub.execute_input": "2023-03-02T17:00:58.474504Z",
     "iopub.status.busy": "2023-03-02T17:00:58.470875Z",
     "iopub.status.idle": "2023-03-02T17:01:03.813718Z",
     "shell.execute_reply": "2023-03-02T17:01:03.812198Z",
     "shell.execute_reply.started": "2023-03-02T17:00:58.474422Z"
    }
   },
   "outputs": [
    {
     "name": "stdout",
     "output_type": "stream",
     "text": [
      "huggingface/tokenizers: The current process just got forked, after parallelism has already been used. Disabling parallelism to avoid deadlocks...\n",
      "To disable this warning, you can either:\n",
      "\t- Avoid using `tokenizers` before the fork if possible\n",
      "\t- Explicitly set the environment variable TOKENIZERS_PARALLELISM=(true | false)\n"
     ]
    }
   ],
   "source": [
    "def optimal_num_clusters(data, max_clusters=10):\n",
    "    # Creating a list to store sums of squared distances\n",
    "    sse = []\n",
    "\n",
    "    for n_clusters in range(1, max_clusters+1):\n",
    "        # Creating a KMeans object with n_clusters clusters\n",
    "        kmeans = KMeans(n_clusters=n_clusters, init='k-means++')\n",
    "\n",
    "        kmeans.fit(data)\n",
    "\n",
    "        # Calculate the sum of the squares of the distances\n",
    "        sse.append(kmeans.inertia_)\n",
    "        \n",
    "    deltas = np.diff(sse)\n",
    "    elbow = np.argmax(deltas) + 1\n",
    "\n",
    "    return elbow\n",
    "\n",
    "num_of_clusters = optimal_num_clusters(pca_decomp)"
   ]
  },
  {
   "cell_type": "code",
   "execution_count": 16,
   "id": "ca42e3d9",
   "metadata": {
    "execution": {
     "iopub.execute_input": "2023-03-02T17:01:03.816044Z",
     "iopub.status.busy": "2023-03-02T17:01:03.815629Z",
     "iopub.status.idle": "2023-03-02T17:01:04.673277Z",
     "shell.execute_reply": "2023-03-02T17:01:04.671593Z",
     "shell.execute_reply.started": "2023-03-02T17:01:03.815998Z"
    }
   },
   "outputs": [
    {
     "data": {
      "text/html": [
       "<div>\n",
       "<style scoped>\n",
       "    .dataframe tbody tr th:only-of-type {\n",
       "        vertical-align: middle;\n",
       "    }\n",
       "\n",
       "    .dataframe tbody tr th {\n",
       "        vertical-align: top;\n",
       "    }\n",
       "\n",
       "    .dataframe thead th {\n",
       "        text-align: right;\n",
       "    }\n",
       "</style>\n",
       "<table border=\"1\" class=\"dataframe\">\n",
       "  <thead>\n",
       "    <tr style=\"text-align: right;\">\n",
       "      <th></th>\n",
       "      <th>DistanceTo1thCluster</th>\n",
       "      <th>DistanceTo2thCluster</th>\n",
       "      <th>DistanceTo3thCluster</th>\n",
       "      <th>DistanceTo4thCluster</th>\n",
       "      <th>DistanceTo5thCluster</th>\n",
       "      <th>DistanceTo6thCluster</th>\n",
       "      <th>DistanceTo7thCluster</th>\n",
       "      <th>DistanceTo8thCluster</th>\n",
       "    </tr>\n",
       "  </thead>\n",
       "  <tbody>\n",
       "    <tr>\n",
       "      <th>0</th>\n",
       "      <td>2.667431</td>\n",
       "      <td>1.663415</td>\n",
       "      <td>3.137187</td>\n",
       "      <td>3.275070</td>\n",
       "      <td>3.289638</td>\n",
       "      <td>1.942028</td>\n",
       "      <td>3.362682</td>\n",
       "      <td>3.273295</td>\n",
       "    </tr>\n",
       "    <tr>\n",
       "      <th>1</th>\n",
       "      <td>2.342015</td>\n",
       "      <td>1.574828</td>\n",
       "      <td>2.921986</td>\n",
       "      <td>3.189014</td>\n",
       "      <td>2.761152</td>\n",
       "      <td>1.921541</td>\n",
       "      <td>3.097564</td>\n",
       "      <td>2.981149</td>\n",
       "    </tr>\n",
       "    <tr>\n",
       "      <th>2</th>\n",
       "      <td>2.708526</td>\n",
       "      <td>1.572857</td>\n",
       "      <td>3.009298</td>\n",
       "      <td>3.270034</td>\n",
       "      <td>2.764058</td>\n",
       "      <td>2.813334</td>\n",
       "      <td>3.287016</td>\n",
       "      <td>3.066047</td>\n",
       "    </tr>\n",
       "    <tr>\n",
       "      <th>3</th>\n",
       "      <td>3.198508</td>\n",
       "      <td>2.195694</td>\n",
       "      <td>3.326784</td>\n",
       "      <td>3.525887</td>\n",
       "      <td>3.548901</td>\n",
       "      <td>3.184443</td>\n",
       "      <td>3.934501</td>\n",
       "      <td>3.588367</td>\n",
       "    </tr>\n",
       "    <tr>\n",
       "      <th>4</th>\n",
       "      <td>1.789002</td>\n",
       "      <td>1.221740</td>\n",
       "      <td>2.585941</td>\n",
       "      <td>2.578085</td>\n",
       "      <td>2.407472</td>\n",
       "      <td>2.656449</td>\n",
       "      <td>3.011525</td>\n",
       "      <td>2.501850</td>\n",
       "    </tr>\n",
       "  </tbody>\n",
       "</table>\n",
       "</div>"
      ],
      "text/plain": [
       "   DistanceTo1thCluster  DistanceTo2thCluster  DistanceTo3thCluster  \\\n",
       "0              2.667431              1.663415              3.137187   \n",
       "1              2.342015              1.574828              2.921986   \n",
       "2              2.708526              1.572857              3.009298   \n",
       "3              3.198508              2.195694              3.326784   \n",
       "4              1.789002              1.221740              2.585941   \n",
       "\n",
       "   DistanceTo4thCluster  DistanceTo5thCluster  DistanceTo6thCluster  \\\n",
       "0              3.275070              3.289638              1.942028   \n",
       "1              3.189014              2.761152              1.921541   \n",
       "2              3.270034              2.764058              2.813334   \n",
       "3              3.525887              3.548901              3.184443   \n",
       "4              2.578085              2.407472              2.656449   \n",
       "\n",
       "   DistanceTo7thCluster  DistanceTo8thCluster  \n",
       "0              3.362682              3.273295  \n",
       "1              3.097564              2.981149  \n",
       "2              3.287016              3.066047  \n",
       "3              3.934501              3.588367  \n",
       "4              3.011525              2.501850  "
      ]
     },
     "execution_count": 16,
     "metadata": {},
     "output_type": "execute_result"
    }
   ],
   "source": [
    "kmeans = KMeans(n_clusters=num_of_clusters, random_state=0).fit(pca_decomp)\n",
    "\n",
    "posts['TextCluster'] = kmeans.labels_\n",
    "\n",
    "dists_columns=[]\n",
    "for i in range(num_of_clusters):\n",
    "    column_name = 'DistanceTo' + str(i+1) + 'thCluster'\n",
    "    dists_columns.append(column_name)\n",
    "\n",
    "dists_df = pd.DataFrame(\n",
    "    data=kmeans.transform(pca_decomp),\n",
    "    columns=dists_columns\n",
    ")\n",
    "\n",
    "dists_df.head()"
   ]
  },
  {
   "cell_type": "code",
   "execution_count": 17,
   "id": "96fcec67",
   "metadata": {
    "execution": {
     "iopub.execute_input": "2023-03-02T17:01:04.680283Z",
     "iopub.status.busy": "2023-03-02T17:01:04.679544Z",
     "iopub.status.idle": "2023-03-02T17:01:04.735094Z",
     "shell.execute_reply": "2023-03-02T17:01:04.734363Z",
     "shell.execute_reply.started": "2023-03-02T17:01:04.680220Z"
    }
   },
   "outputs": [
    {
     "data": {
      "text/html": [
       "<div>\n",
       "<style scoped>\n",
       "    .dataframe tbody tr th:only-of-type {\n",
       "        vertical-align: middle;\n",
       "    }\n",
       "\n",
       "    .dataframe tbody tr th {\n",
       "        vertical-align: top;\n",
       "    }\n",
       "\n",
       "    .dataframe thead th {\n",
       "        text-align: right;\n",
       "    }\n",
       "</style>\n",
       "<table border=\"1\" class=\"dataframe\">\n",
       "  <thead>\n",
       "    <tr style=\"text-align: right;\">\n",
       "      <th></th>\n",
       "      <th>post_id</th>\n",
       "      <th>text</th>\n",
       "      <th>topic</th>\n",
       "      <th>MaxTfIdf</th>\n",
       "      <th>MeanTfIdf</th>\n",
       "      <th>TextCluster</th>\n",
       "      <th>DistanceTo1thCluster</th>\n",
       "      <th>DistanceTo2thCluster</th>\n",
       "      <th>DistanceTo3thCluster</th>\n",
       "      <th>DistanceTo4thCluster</th>\n",
       "      <th>DistanceTo5thCluster</th>\n",
       "      <th>DistanceTo6thCluster</th>\n",
       "      <th>DistanceTo7thCluster</th>\n",
       "      <th>DistanceTo8thCluster</th>\n",
       "    </tr>\n",
       "  </thead>\n",
       "  <tbody>\n",
       "    <tr>\n",
       "      <th>0</th>\n",
       "      <td>1</td>\n",
       "      <td>UK economy facing major risks\\n\\nThe UK manufa...</td>\n",
       "      <td>business</td>\n",
       "      <td>6.567532</td>\n",
       "      <td>-0.007629</td>\n",
       "      <td>1</td>\n",
       "      <td>2.667431</td>\n",
       "      <td>1.663415</td>\n",
       "      <td>3.137187</td>\n",
       "      <td>3.275070</td>\n",
       "      <td>3.289638</td>\n",
       "      <td>1.942028</td>\n",
       "      <td>3.362682</td>\n",
       "      <td>3.273295</td>\n",
       "    </tr>\n",
       "    <tr>\n",
       "      <th>1</th>\n",
       "      <td>2</td>\n",
       "      <td>Aids and climate top Davos agenda\\n\\nClimate c...</td>\n",
       "      <td>business</td>\n",
       "      <td>6.284832</td>\n",
       "      <td>-0.007263</td>\n",
       "      <td>1</td>\n",
       "      <td>2.342015</td>\n",
       "      <td>1.574828</td>\n",
       "      <td>2.921986</td>\n",
       "      <td>3.189014</td>\n",
       "      <td>2.761152</td>\n",
       "      <td>1.921541</td>\n",
       "      <td>3.097564</td>\n",
       "      <td>2.981149</td>\n",
       "    </tr>\n",
       "    <tr>\n",
       "      <th>2</th>\n",
       "      <td>3</td>\n",
       "      <td>Asian quake hits European shares\\n\\nShares in ...</td>\n",
       "      <td>business</td>\n",
       "      <td>5.898987</td>\n",
       "      <td>-0.006721</td>\n",
       "      <td>1</td>\n",
       "      <td>2.708526</td>\n",
       "      <td>1.572857</td>\n",
       "      <td>3.009298</td>\n",
       "      <td>3.270034</td>\n",
       "      <td>2.764058</td>\n",
       "      <td>2.813334</td>\n",
       "      <td>3.287016</td>\n",
       "      <td>3.066047</td>\n",
       "    </tr>\n",
       "    <tr>\n",
       "      <th>3</th>\n",
       "      <td>4</td>\n",
       "      <td>India power shares jump on debut\\n\\nShares in ...</td>\n",
       "      <td>business</td>\n",
       "      <td>6.558774</td>\n",
       "      <td>-0.007597</td>\n",
       "      <td>1</td>\n",
       "      <td>3.198508</td>\n",
       "      <td>2.195694</td>\n",
       "      <td>3.326784</td>\n",
       "      <td>3.525887</td>\n",
       "      <td>3.548901</td>\n",
       "      <td>3.184443</td>\n",
       "      <td>3.934501</td>\n",
       "      <td>3.588367</td>\n",
       "    </tr>\n",
       "    <tr>\n",
       "      <th>4</th>\n",
       "      <td>5</td>\n",
       "      <td>Lacroix label bought by US firm\\n\\nLuxury good...</td>\n",
       "      <td>business</td>\n",
       "      <td>6.289011</td>\n",
       "      <td>-0.007130</td>\n",
       "      <td>1</td>\n",
       "      <td>1.789002</td>\n",
       "      <td>1.221740</td>\n",
       "      <td>2.585941</td>\n",
       "      <td>2.578085</td>\n",
       "      <td>2.407472</td>\n",
       "      <td>2.656449</td>\n",
       "      <td>3.011525</td>\n",
       "      <td>2.501850</td>\n",
       "    </tr>\n",
       "  </tbody>\n",
       "</table>\n",
       "</div>"
      ],
      "text/plain": [
       "   post_id                                               text     topic  \\\n",
       "0        1  UK economy facing major risks\\n\\nThe UK manufa...  business   \n",
       "1        2  Aids and climate top Davos agenda\\n\\nClimate c...  business   \n",
       "2        3  Asian quake hits European shares\\n\\nShares in ...  business   \n",
       "3        4  India power shares jump on debut\\n\\nShares in ...  business   \n",
       "4        5  Lacroix label bought by US firm\\n\\nLuxury good...  business   \n",
       "\n",
       "   MaxTfIdf  MeanTfIdf  TextCluster  DistanceTo1thCluster  \\\n",
       "0  6.567532  -0.007629            1              2.667431   \n",
       "1  6.284832  -0.007263            1              2.342015   \n",
       "2  5.898987  -0.006721            1              2.708526   \n",
       "3  6.558774  -0.007597            1              3.198508   \n",
       "4  6.289011  -0.007130            1              1.789002   \n",
       "\n",
       "   DistanceTo2thCluster  DistanceTo3thCluster  DistanceTo4thCluster  \\\n",
       "0              1.663415              3.137187              3.275070   \n",
       "1              1.574828              2.921986              3.189014   \n",
       "2              1.572857              3.009298              3.270034   \n",
       "3              2.195694              3.326784              3.525887   \n",
       "4              1.221740              2.585941              2.578085   \n",
       "\n",
       "   DistanceTo5thCluster  DistanceTo6thCluster  DistanceTo7thCluster  \\\n",
       "0              3.289638              1.942028              3.362682   \n",
       "1              2.761152              1.921541              3.097564   \n",
       "2              2.764058              2.813334              3.287016   \n",
       "3              3.548901              3.184443              3.934501   \n",
       "4              2.407472              2.656449              3.011525   \n",
       "\n",
       "   DistanceTo8thCluster  \n",
       "0              3.273295  \n",
       "1              2.981149  \n",
       "2              3.066047  \n",
       "3              3.588367  \n",
       "4              2.501850  "
      ]
     },
     "execution_count": 17,
     "metadata": {},
     "output_type": "execute_result"
    }
   ],
   "source": [
    "posts = pd.concat((posts, dists_df), axis=1)\n",
    "\n",
    "posts.head()"
   ]
  },
  {
   "cell_type": "markdown",
   "id": "507fe159",
   "metadata": {},
   "source": [
    "### final df with all features"
   ]
  },
  {
   "cell_type": "code",
   "execution_count": 18,
   "id": "376d9fc9",
   "metadata": {
    "execution": {
     "iopub.execute_input": "2023-03-02T17:01:04.737200Z",
     "iopub.status.busy": "2023-03-02T17:01:04.736807Z",
     "iopub.status.idle": "2023-03-02T17:01:05.579468Z",
     "shell.execute_reply": "2023-03-02T17:01:05.578414Z",
     "shell.execute_reply.started": "2023-03-02T17:01:04.737161Z"
    }
   },
   "outputs": [],
   "source": [
    "# creating a DataFrame with all the variables\n",
    "df = pd.merge(feed,\n",
    "              posts,\n",
    "              on='post_id',\n",
    "              how='left')\n",
    "\n",
    "df = pd.merge(df,\n",
    "              user_data,\n",
    "              on='user_id',\n",
    "              how='left')"
   ]
  },
  {
   "cell_type": "code",
   "execution_count": 19,
   "id": "608a6714",
   "metadata": {
    "execution": {
     "iopub.execute_input": "2023-03-02T17:01:05.581785Z",
     "iopub.status.busy": "2023-03-02T17:01:05.581192Z",
     "iopub.status.idle": "2023-03-02T17:01:13.765395Z",
     "shell.execute_reply": "2023-03-02T17:01:13.764338Z",
     "shell.execute_reply.started": "2023-03-02T17:01:05.581733Z"
    }
   },
   "outputs": [],
   "source": [
    "# extracting hour and month from timestamp\n",
    "df['hour'] = pd.to_datetime(df['timestamp']).apply(lambda x: x.hour)\n",
    "df['month'] = pd.to_datetime(df['timestamp']).apply(lambda x: x.month)"
   ]
  },
  {
   "cell_type": "markdown",
   "id": "50626e40",
   "metadata": {},
   "source": [
    "# EDA"
   ]
  },
  {
   "cell_type": "code",
   "execution_count": 20,
   "id": "61a9ce70",
   "metadata": {
    "execution": {
     "iopub.execute_input": "2023-03-02T17:01:13.767062Z",
     "iopub.status.busy": "2023-03-02T17:01:13.766703Z",
     "iopub.status.idle": "2023-03-02T17:01:14.030284Z",
     "shell.execute_reply": "2023-03-02T17:01:14.029072Z",
     "shell.execute_reply.started": "2023-03-02T17:01:13.767019Z"
    }
   },
   "outputs": [
    {
     "name": "stdout",
     "output_type": "stream",
     "text": [
      "<class 'pandas.core.frame.DataFrame'>\n",
      "Int64Index: 1000000 entries, 0 to 999999\n",
      "Data columns (total 29 columns):\n",
      " #   Column                Non-Null Count    Dtype         \n",
      "---  ------                --------------    -----         \n",
      " 0   timestamp             1000000 non-null  datetime64[ns]\n",
      " 1   user_id               1000000 non-null  int64         \n",
      " 2   post_id               1000000 non-null  int64         \n",
      " 3   action                1000000 non-null  object        \n",
      " 4   target                1000000 non-null  int64         \n",
      " 5   text                  1000000 non-null  object        \n",
      " 6   topic                 1000000 non-null  object        \n",
      " 7   MaxTfIdf              1000000 non-null  float32       \n",
      " 8   MeanTfIdf             1000000 non-null  float32       \n",
      " 9   TextCluster           1000000 non-null  int32         \n",
      " 10  DistanceTo1thCluster  1000000 non-null  float32       \n",
      " 11  DistanceTo2thCluster  1000000 non-null  float32       \n",
      " 12  DistanceTo3thCluster  1000000 non-null  float32       \n",
      " 13  DistanceTo4thCluster  1000000 non-null  float32       \n",
      " 14  DistanceTo5thCluster  1000000 non-null  float32       \n",
      " 15  DistanceTo6thCluster  1000000 non-null  float32       \n",
      " 16  DistanceTo7thCluster  1000000 non-null  float32       \n",
      " 17  DistanceTo8thCluster  1000000 non-null  float32       \n",
      " 18  gender                1000000 non-null  int64         \n",
      " 19  age                   1000000 non-null  int64         \n",
      " 20  city                  1000000 non-null  float64       \n",
      " 21  exp_group             1000000 non-null  int64         \n",
      " 22  os                    1000000 non-null  object        \n",
      " 23  source                1000000 non-null  object        \n",
      " 24  total_user_activity   1000000 non-null  int64         \n",
      " 25  share_of_likes        1000000 non-null  float64       \n",
      " 26  fav_category          1000000 non-null  object        \n",
      " 27  hour                  1000000 non-null  int64         \n",
      " 28  month                 1000000 non-null  int64         \n",
      "dtypes: datetime64[ns](1), float32(10), float64(2), int32(1), int64(9), object(6)\n",
      "memory usage: 186.9+ MB\n"
     ]
    }
   ],
   "source": [
    "df.info()"
   ]
  },
  {
   "cell_type": "markdown",
   "id": "72d2f69c",
   "metadata": {},
   "source": [
    "numeric columns"
   ]
  },
  {
   "cell_type": "code",
   "execution_count": 21,
   "id": "7f10f3ea",
   "metadata": {
    "execution": {
     "iopub.execute_input": "2023-03-02T17:01:14.032248Z",
     "iopub.status.busy": "2023-03-02T17:01:14.031781Z",
     "iopub.status.idle": "2023-03-02T17:01:14.369325Z",
     "shell.execute_reply": "2023-03-02T17:01:14.368373Z",
     "shell.execute_reply.started": "2023-03-02T17:01:14.032200Z"
    }
   },
   "outputs": [
    {
     "data": {
      "text/plain": [
       "Index(['user_id', 'post_id', 'MaxTfIdf', 'MeanTfIdf', 'DistanceTo1thCluster',\n",
       "       'DistanceTo2thCluster', 'DistanceTo3thCluster', 'DistanceTo4thCluster',\n",
       "       'DistanceTo5thCluster', 'DistanceTo6thCluster', 'DistanceTo7thCluster',\n",
       "       'DistanceTo8thCluster', 'age', 'city', 'total_user_activity',\n",
       "       'share_of_likes'],\n",
       "      dtype='object')"
      ]
     },
     "execution_count": 21,
     "metadata": {},
     "output_type": "execute_result"
    }
   ],
   "source": [
    "numeric_columns = df.loc[:,df.dtypes!=object].columns\n",
    "\n",
    "# columns that are numeric but actually they are categorical\n",
    "cat_cols = ['gender', 'exp_group', 'hour', 'month', 'TextCluster']\n",
    "\n",
    "numeric_columns = numeric_columns.drop(cat_cols + ['target', 'timestamp'])\n",
    "numeric_columns"
   ]
  },
  {
   "cell_type": "code",
   "execution_count": 22,
   "id": "ed8de439",
   "metadata": {
    "execution": {
     "iopub.execute_input": "2023-03-02T17:01:14.371272Z",
     "iopub.status.busy": "2023-03-02T17:01:14.370773Z",
     "iopub.status.idle": "2023-03-02T17:01:15.100765Z",
     "shell.execute_reply": "2023-03-02T17:01:15.099577Z",
     "shell.execute_reply.started": "2023-03-02T17:01:14.371234Z"
    }
   },
   "outputs": [
    {
     "name": "stdout",
     "output_type": "stream",
     "text": [
      "Top Absolute Correlations\n",
      "DistanceTo4thCluster  DistanceTo8thCluster    0.936045\n",
      "MaxTfIdf              MeanTfIdf               0.834191\n",
      "city                  share_of_likes          0.814824\n",
      "post_id               DistanceTo4thCluster    0.785617\n",
      "                      DistanceTo8thCluster    0.729521\n",
      "DistanceTo1thCluster  DistanceTo8thCluster    0.698210\n",
      "                      DistanceTo4thCluster    0.591161\n",
      "DistanceTo5thCluster  DistanceTo7thCluster    0.578443\n",
      "DistanceTo2thCluster  DistanceTo6thCluster    0.526602\n",
      "post_id               DistanceTo6thCluster    0.499901\n",
      "DistanceTo3thCluster  DistanceTo7thCluster    0.497949\n",
      "MeanTfIdf             DistanceTo6thCluster    0.457010\n",
      "MaxTfIdf              DistanceTo1thCluster    0.409761\n",
      "MeanTfIdf             DistanceTo3thCluster    0.389170\n",
      "post_id               DistanceTo7thCluster    0.386182\n",
      "DistanceTo1thCluster  DistanceTo2thCluster    0.381147\n",
      "MaxTfIdf              DistanceTo2thCluster    0.366739\n",
      "post_id               DistanceTo2thCluster    0.366628\n",
      "DistanceTo6thCluster  DistanceTo7thCluster    0.355366\n",
      "DistanceTo3thCluster  DistanceTo6thCluster    0.350162\n",
      "MaxTfIdf              DistanceTo4thCluster    0.330802\n",
      "                      DistanceTo6thCluster    0.326404\n",
      "post_id               DistanceTo5thCluster    0.324295\n",
      "DistanceTo4thCluster  DistanceTo7thCluster    0.319993\n",
      "MaxTfIdf              DistanceTo8thCluster    0.295657\n",
      "MeanTfIdf             DistanceTo2thCluster    0.292373\n",
      "MaxTfIdf              DistanceTo5thCluster    0.292271\n",
      "                      DistanceTo3thCluster    0.292109\n",
      "DistanceTo4thCluster  DistanceTo6thCluster    0.290337\n",
      "DistanceTo1thCluster  DistanceTo6thCluster    0.289949\n",
      "dtype: float64\n"
     ]
    }
   ],
   "source": [
    "# the function from slack - helps to find correlated features\n",
    "def get_redundant_pairs(df):\n",
    "    pairs_to_drop = set()\n",
    "    cols = df.columns\n",
    "    for i in range(0, df.shape[1]):\n",
    "        for j in range(0, i+1):\n",
    "            pairs_to_drop.add((cols[i], cols[j]))\n",
    "    return pairs_to_drop\n",
    "\n",
    "def get_top_abs_correlations(df, n=5):\n",
    "    au_corr = df.corr().abs().unstack()\n",
    "    labels_to_drop = get_redundant_pairs(df)\n",
    "    au_corr = au_corr.drop(labels=labels_to_drop).sort_values(ascending=False)\n",
    "    return au_corr[0:n]\n",
    "\n",
    "print(\"Top Absolute Correlations\")\n",
    "print(get_top_abs_correlations(df[numeric_columns], 30))"
   ]
  },
  {
   "cell_type": "code",
   "execution_count": 23,
   "id": "ba2614cf",
   "metadata": {
    "execution": {
     "iopub.execute_input": "2023-03-02T17:01:15.104745Z",
     "iopub.status.busy": "2023-03-02T17:01:15.102193Z",
     "iopub.status.idle": "2023-03-02T17:01:16.387105Z",
     "shell.execute_reply": "2023-03-02T17:01:16.385671Z",
     "shell.execute_reply.started": "2023-03-02T17:01:15.104696Z"
    }
   },
   "outputs": [],
   "source": [
    "# function from slack - delete correlated features using theshold\n",
    "def correlation(dataset, threshold):\n",
    "    col_corr = set() # Set of all the names of deleted columns\n",
    "    corr_matrix = dataset.corr()\n",
    "    for i in range(len(corr_matrix.columns)):\n",
    "        for j in range(i):\n",
    "            if (corr_matrix.iloc[i, j] >= threshold) and (corr_matrix.columns[j] not in col_corr):\n",
    "                colname = corr_matrix.columns[i] # getting the name of column\n",
    "                col_corr.add(colname)\n",
    "                if colname in dataset.columns:\n",
    "                    del dataset[colname] # deleting the column from the dataset\n",
    "\n",
    "# Delete columns where the correlation turns out to be > 0.7\n",
    "correlation(df, 0.7)"
   ]
  },
  {
   "cell_type": "code",
   "execution_count": 24,
   "id": "04d1ec28",
   "metadata": {
    "execution": {
     "iopub.execute_input": "2023-03-02T17:01:16.394405Z",
     "iopub.status.busy": "2023-03-02T17:01:16.393141Z",
     "iopub.status.idle": "2023-03-02T17:01:16.406927Z",
     "shell.execute_reply": "2023-03-02T17:01:16.403651Z",
     "shell.execute_reply.started": "2023-03-02T17:01:16.394352Z"
    }
   },
   "outputs": [],
   "source": [
    "numeric_columns = [i for i in numeric_columns if i in df.columns]"
   ]
  },
  {
   "cell_type": "code",
   "execution_count": 25,
   "id": "c4d4b301",
   "metadata": {
    "execution": {
     "iopub.execute_input": "2023-03-02T17:01:16.409138Z",
     "iopub.status.busy": "2023-03-02T17:01:16.408547Z",
     "iopub.status.idle": "2023-03-02T17:01:16.985998Z",
     "shell.execute_reply": "2023-03-02T17:01:16.984810Z",
     "shell.execute_reply.started": "2023-03-02T17:01:16.409100Z"
    }
   },
   "outputs": [
    {
     "data": {
      "text/plain": [
       "['MaxTfIdf', 'MeanTfIdf', 'city']"
      ]
     },
     "execution_count": 25,
     "metadata": {},
     "output_type": "execute_result"
    }
   ],
   "source": [
    "# if the variable has a very small variance, it will not be useful \n",
    "# in regression analysis - it will have a small coefficient that is difficult to interpret\n",
    "cutter = VarianceThreshold(threshold=0.1)\n",
    "cutter.fit(df[numeric_columns])\n",
    "constant_cols = [x for x in numeric_columns if x not in cutter.get_feature_names_out()]\n",
    "\n",
    "constant_cols"
   ]
  },
  {
   "cell_type": "code",
   "execution_count": 26,
   "id": "2be5e86d",
   "metadata": {
    "execution": {
     "iopub.execute_input": "2023-03-02T17:01:16.988807Z",
     "iopub.status.busy": "2023-03-02T17:01:16.988026Z",
     "iopub.status.idle": "2023-03-02T17:01:17.143133Z",
     "shell.execute_reply": "2023-03-02T17:01:17.142070Z",
     "shell.execute_reply.started": "2023-03-02T17:01:16.988760Z"
    }
   },
   "outputs": [],
   "source": [
    "df = df.drop(constant_cols, axis=1)\n",
    "numeric_columns = [i for i in numeric_columns if i in df.columns]"
   ]
  },
  {
   "cell_type": "code",
   "execution_count": 27,
   "id": "a0d23019",
   "metadata": {
    "execution": {
     "iopub.execute_input": "2023-03-02T17:01:17.145389Z",
     "iopub.status.busy": "2023-03-02T17:01:17.144728Z",
     "iopub.status.idle": "2023-03-02T17:01:17.284325Z",
     "shell.execute_reply": "2023-03-02T17:01:17.283165Z",
     "shell.execute_reply.started": "2023-03-02T17:01:17.145350Z"
    }
   },
   "outputs": [],
   "source": [
    "# the column with post text is not userful anymore\n",
    "df = df.drop('text', axis=1)"
   ]
  },
  {
   "cell_type": "markdown",
   "id": "e14eebd8",
   "metadata": {},
   "source": [
    "# Model"
   ]
  },
  {
   "cell_type": "code",
   "execution_count": 28,
   "id": "adf62b5d",
   "metadata": {
    "execution": {
     "iopub.execute_input": "2023-03-02T17:01:17.296348Z",
     "iopub.status.busy": "2023-03-02T17:01:17.292899Z",
     "iopub.status.idle": "2023-03-02T17:01:17.485270Z",
     "shell.execute_reply": "2023-03-02T17:01:17.483477Z",
     "shell.execute_reply.started": "2023-03-02T17:01:17.296304Z"
    }
   },
   "outputs": [],
   "source": [
    "df = df.set_index(['user_id', 'post_id'])"
   ]
  },
  {
   "cell_type": "code",
   "execution_count": 29,
   "id": "a4563ca9",
   "metadata": {
    "execution": {
     "iopub.execute_input": "2023-03-02T17:01:17.496821Z",
     "iopub.status.busy": "2023-03-02T17:01:17.490027Z",
     "iopub.status.idle": "2023-03-02T17:01:18.032464Z",
     "shell.execute_reply": "2023-03-02T17:01:18.031431Z",
     "shell.execute_reply.started": "2023-03-02T17:01:17.496777Z"
    }
   },
   "outputs": [
    {
     "data": {
      "text/plain": [
       "((835004,), (164996,))"
      ]
     },
     "execution_count": 29,
     "metadata": {},
     "output_type": "execute_result"
    }
   ],
   "source": [
    "# splitting data to train and test by data\n",
    "# The date was used as a flaw, because it is necessary to make predictions for posts that the user has not yet seen\n",
    "\n",
    "df_train = df[df.timestamp < '2021-12-15']\n",
    "df_test = df[df.timestamp >= '2021-12-15']\n",
    "\n",
    "df_train = df_train.drop('timestamp', axis=1)\n",
    "df_test = df_test.drop('timestamp', axis=1)\n",
    "\n",
    "X_train = df_train.drop('target', axis=1)\n",
    "X_test = df_test.drop('target', axis=1)\n",
    "\n",
    "y_train = df_train['target']\n",
    "y_test = df_test['target']\n",
    "\n",
    "y_train.shape, y_test.shape"
   ]
  },
  {
   "cell_type": "code",
   "execution_count": 30,
   "id": "9d97c789",
   "metadata": {
    "execution": {
     "iopub.execute_input": "2023-03-02T17:01:18.034381Z",
     "iopub.status.busy": "2023-03-02T17:01:18.033912Z",
     "iopub.status.idle": "2023-03-02T17:01:18.111747Z",
     "shell.execute_reply": "2023-03-02T17:01:18.110747Z",
     "shell.execute_reply.started": "2023-03-02T17:01:18.034343Z"
    }
   },
   "outputs": [
    {
     "data": {
      "text/plain": [
       "Index(['TextCluster', 'action', 'exp_group', 'fav_category', 'gender', 'hour',\n",
       "       'month', 'os', 'source', 'topic'],\n",
       "      dtype='object')"
      ]
     },
     "execution_count": 30,
     "metadata": {},
     "output_type": "execute_result"
    }
   ],
   "source": [
    "categotical_columns = X_train.loc[:,X_train.dtypes==object].columns\n",
    "categotical_columns = categotical_columns.union(cat_cols)\n",
    "\n",
    "categotical_columns"
   ]
  },
  {
   "cell_type": "code",
   "execution_count": 31,
   "id": "f45a5c54",
   "metadata": {
    "collapsed": true,
    "execution": {
     "iopub.execute_input": "2023-03-02T17:01:18.113760Z",
     "iopub.status.busy": "2023-03-02T17:01:18.113273Z",
     "iopub.status.idle": "2023-03-02T17:01:44.362713Z",
     "shell.execute_reply": "2023-03-02T17:01:44.361628Z",
     "shell.execute_reply.started": "2023-03-02T17:01:18.113723Z"
    },
    "jupyter": {
     "outputs_hidden": true
    }
   },
   "outputs": [
    {
     "name": "stdout",
     "output_type": "stream",
     "text": [
      "Learning rate set to 0.5\n",
      "0:\tlearn: 0.4703798\ttotal: 614ms\tremaining: 30.1s\n",
      "1:\tlearn: 0.3978778\ttotal: 1.16s\tremaining: 27.9s\n",
      "2:\tlearn: 0.3710202\ttotal: 1.63s\tremaining: 25.5s\n",
      "3:\tlearn: 0.3606440\ttotal: 2.09s\tremaining: 24s\n",
      "4:\tlearn: 0.3558900\ttotal: 2.52s\tremaining: 22.7s\n",
      "5:\tlearn: 0.3537797\ttotal: 3.13s\tremaining: 23s\n",
      "6:\tlearn: 0.3524542\ttotal: 3.8s\tremaining: 23.3s\n",
      "7:\tlearn: 0.3507100\ttotal: 4.3s\tremaining: 22.6s\n",
      "8:\tlearn: 0.3497882\ttotal: 4.76s\tremaining: 21.7s\n",
      "9:\tlearn: 0.3493869\ttotal: 5.25s\tremaining: 21s\n",
      "10:\tlearn: 0.3485920\ttotal: 5.72s\tremaining: 20.3s\n",
      "11:\tlearn: 0.3484045\ttotal: 6.17s\tremaining: 19.5s\n",
      "12:\tlearn: 0.3480848\ttotal: 6.61s\tremaining: 18.8s\n",
      "13:\tlearn: 0.3478161\ttotal: 7.07s\tremaining: 18.2s\n",
      "14:\tlearn: 0.3476115\ttotal: 7.53s\tremaining: 17.6s\n",
      "15:\tlearn: 0.3474805\ttotal: 8s\tremaining: 17s\n",
      "16:\tlearn: 0.3473626\ttotal: 8.46s\tremaining: 16.4s\n",
      "17:\tlearn: 0.3471056\ttotal: 8.91s\tremaining: 15.8s\n",
      "18:\tlearn: 0.3470197\ttotal: 9.35s\tremaining: 15.3s\n",
      "19:\tlearn: 0.3467302\ttotal: 9.81s\tremaining: 14.7s\n",
      "20:\tlearn: 0.3465473\ttotal: 10.3s\tremaining: 14.2s\n",
      "21:\tlearn: 0.3464059\ttotal: 10.7s\tremaining: 13.7s\n",
      "22:\tlearn: 0.3463561\ttotal: 11.2s\tremaining: 13.1s\n",
      "23:\tlearn: 0.3462348\ttotal: 11.6s\tremaining: 12.6s\n",
      "24:\tlearn: 0.3461727\ttotal: 12.1s\tremaining: 12.1s\n",
      "25:\tlearn: 0.3461188\ttotal: 12.5s\tremaining: 11.6s\n",
      "26:\tlearn: 0.3460120\ttotal: 13s\tremaining: 11.1s\n",
      "27:\tlearn: 0.3459054\ttotal: 13.4s\tremaining: 10.6s\n",
      "28:\tlearn: 0.3457857\ttotal: 14s\tremaining: 10.1s\n",
      "29:\tlearn: 0.3455335\ttotal: 14.7s\tremaining: 9.78s\n",
      "30:\tlearn: 0.3454874\ttotal: 15.1s\tremaining: 9.26s\n",
      "31:\tlearn: 0.3454141\ttotal: 15.6s\tremaining: 8.76s\n",
      "32:\tlearn: 0.3452978\ttotal: 16s\tremaining: 8.26s\n",
      "33:\tlearn: 0.3452129\ttotal: 16.5s\tremaining: 7.76s\n",
      "34:\tlearn: 0.3450515\ttotal: 17s\tremaining: 7.27s\n",
      "35:\tlearn: 0.3449349\ttotal: 17.4s\tremaining: 6.78s\n",
      "36:\tlearn: 0.3448700\ttotal: 17.9s\tremaining: 6.28s\n",
      "37:\tlearn: 0.3447737\ttotal: 18.3s\tremaining: 5.79s\n",
      "38:\tlearn: 0.3446762\ttotal: 18.8s\tremaining: 5.3s\n",
      "39:\tlearn: 0.3445473\ttotal: 19.3s\tremaining: 4.81s\n",
      "40:\tlearn: 0.3444772\ttotal: 19.7s\tremaining: 4.33s\n",
      "41:\tlearn: 0.3444013\ttotal: 20.2s\tremaining: 3.84s\n",
      "42:\tlearn: 0.3443345\ttotal: 20.6s\tremaining: 3.36s\n",
      "43:\tlearn: 0.3442762\ttotal: 21.1s\tremaining: 2.88s\n",
      "44:\tlearn: 0.3441502\ttotal: 21.6s\tremaining: 2.4s\n",
      "45:\tlearn: 0.3440640\ttotal: 22s\tremaining: 1.92s\n",
      "46:\tlearn: 0.3440013\ttotal: 22.5s\tremaining: 1.44s\n",
      "47:\tlearn: 0.3439379\ttotal: 23s\tremaining: 957ms\n",
      "48:\tlearn: 0.3438689\ttotal: 23.4s\tremaining: 478ms\n",
      "49:\tlearn: 0.3437750\ttotal: 23.9s\tremaining: 0us\n"
     ]
    },
    {
     "data": {
      "text/plain": [
       "<catboost.core.CatBoostClassifier at 0x7f3392443810>"
      ]
     },
     "execution_count": 31,
     "metadata": {},
     "output_type": "execute_result"
    }
   ],
   "source": [
    "object_cols = list(categotical_columns)\n",
    "\n",
    "catboost = CatBoostClassifier(iterations = 50)\n",
    "\n",
    "catboost.fit(X_train, y_train, object_cols)"
   ]
  },
  {
   "cell_type": "code",
   "execution_count": 32,
   "id": "b6308f9a",
   "metadata": {
    "execution": {
     "iopub.execute_input": "2023-03-02T17:01:44.364758Z",
     "iopub.status.busy": "2023-03-02T17:01:44.364210Z",
     "iopub.status.idle": "2023-03-02T17:01:46.949202Z",
     "shell.execute_reply": "2023-03-02T17:01:46.947149Z",
     "shell.execute_reply.started": "2023-03-02T17:01:44.364716Z"
    }
   },
   "outputs": [
    {
     "name": "stdout",
     "output_type": "stream",
     "text": [
      "Quality on train: 0.6558832500208162\n",
      "Quality on test: 0.6320908385763832\n"
     ]
    }
   ],
   "source": [
    "# let's look at the score using the roc_auc metric\n",
    "print(f\"Quality on train: {roc_auc_score(y_train, catboost.predict_proba(X_train)[:, 1])}\")\n",
    "print(f\"Quality on test: {roc_auc_score(y_test, catboost.predict_proba(X_test)[:, 1])}\")"
   ]
  },
  {
   "cell_type": "code",
   "execution_count": 33,
   "id": "a1c29fc9",
   "metadata": {
    "execution": {
     "iopub.execute_input": "2023-03-02T17:01:46.951340Z",
     "iopub.status.busy": "2023-03-02T17:01:46.950807Z",
     "iopub.status.idle": "2023-03-02T17:01:47.364543Z",
     "shell.execute_reply": "2023-03-02T17:01:47.363552Z",
     "shell.execute_reply.started": "2023-03-02T17:01:46.951293Z"
    },
    "scrolled": true
   },
   "outputs": [
    {
     "data": {
      "image/png": "[encoded data removed]",
      "text/plain": [
       "<Figure size 1000x800 with 1 Axes>"
      ]
     },
     "metadata": {},
     "output_type": "display_data"
    }
   ],
   "source": [
    "# let's look at the importance of variables to assess the contribution of each\n",
    "def plot_feature_importance(importance,names,model_type):\n",
    "    \n",
    "    #Create arrays from feature importance and feature names\n",
    "    feature_importance = np.array(importance)\n",
    "    feature_names = np.array(names)\n",
    "    \n",
    "    #Create a DataFrame using a Dictionary\n",
    "    data={'feature_names':feature_names,'feature_importance':feature_importance}\n",
    "    fi_df = pd.DataFrame(data)\n",
    "    \n",
    "    #Sort the DataFrame in order decreasing feature importance\n",
    "    fi_df.sort_values(by=['feature_importance'], ascending=False,inplace=True)\n",
    "    \n",
    "    #Define size of bar plot\n",
    "    plt.figure(figsize=(10,8))\n",
    "    #Plot Searborn bar chart\n",
    "    sns.barplot(x=fi_df['feature_importance'], y=fi_df['feature_names'])\n",
    "    #Add chart labels\n",
    "    plt.title(model_type + 'FEATURE IMPORTANCE')\n",
    "    plt.xlabel('FEATURE IMPORTANCE')\n",
    "    plt.ylabel('FEATURE NAMES')\n",
    "    \n",
    "plot_feature_importance(catboost.feature_importances_,X_train.columns,'Catboost')"
   ]
  },
  {
   "cell_type": "markdown",
   "id": "8241f11a",
   "metadata": {},
   "source": [
    "Let's try to remove variables that contribute less"
   ]
  },
  {
   "cell_type": "code",
   "execution_count": 34,
   "id": "bad035ff",
   "metadata": {
    "execution": {
     "iopub.execute_input": "2023-03-02T17:01:47.366751Z",
     "iopub.status.busy": "2023-03-02T17:01:47.365644Z",
     "iopub.status.idle": "2023-03-02T17:01:47.404231Z",
     "shell.execute_reply": "2023-03-02T17:01:47.403218Z",
     "shell.execute_reply.started": "2023-03-02T17:01:47.366710Z"
    }
   },
   "outputs": [],
   "source": [
    "X_train_2 = X_train.drop(['gender', 'os', 'source', 'action', 'TextCluster', 'month'], axis=1)\n",
    "X_test_2 = X_test.drop(['gender', 'os', 'source', 'action', 'TextCluster', 'month'], axis=1)\n",
    "\n",
    "categotical_columns_2 = [i for i in categotical_columns if i in X_train_2.columns]"
   ]
  },
  {
   "cell_type": "code",
   "execution_count": 35,
   "id": "6aa0f7ad",
   "metadata": {
    "collapsed": true,
    "execution": {
     "iopub.execute_input": "2023-03-02T17:01:47.406284Z",
     "iopub.status.busy": "2023-03-02T17:01:47.405890Z",
     "iopub.status.idle": "2023-03-02T17:02:08.024463Z",
     "shell.execute_reply": "2023-03-02T17:02:08.023457Z",
     "shell.execute_reply.started": "2023-03-02T17:01:47.406244Z"
    },
    "jupyter": {
     "outputs_hidden": true
    }
   },
   "outputs": [
    {
     "name": "stdout",
     "output_type": "stream",
     "text": [
      "Learning rate set to 0.5\n",
      "0:\tlearn: 0.4703386\ttotal: 426ms\tremaining: 20.9s\n",
      "1:\tlearn: 0.3977399\ttotal: 848ms\tremaining: 20.4s\n",
      "2:\tlearn: 0.3708892\ttotal: 1.26s\tremaining: 19.7s\n",
      "3:\tlearn: 0.3602674\ttotal: 1.64s\tremaining: 18.9s\n",
      "4:\tlearn: 0.3554062\ttotal: 2s\tremaining: 18s\n",
      "5:\tlearn: 0.3529148\ttotal: 2.36s\tremaining: 17.3s\n",
      "6:\tlearn: 0.3517538\ttotal: 2.73s\tremaining: 16.8s\n",
      "7:\tlearn: 0.3509686\ttotal: 3.09s\tremaining: 16.2s\n",
      "8:\tlearn: 0.3502683\ttotal: 3.46s\tremaining: 15.8s\n",
      "9:\tlearn: 0.3499510\ttotal: 3.81s\tremaining: 15.2s\n",
      "10:\tlearn: 0.3495275\ttotal: 4.18s\tremaining: 14.8s\n",
      "11:\tlearn: 0.3493577\ttotal: 4.55s\tremaining: 14.4s\n",
      "12:\tlearn: 0.3489145\ttotal: 4.91s\tremaining: 14s\n",
      "13:\tlearn: 0.3486172\ttotal: 5.28s\tremaining: 13.6s\n",
      "14:\tlearn: 0.3483250\ttotal: 5.65s\tremaining: 13.2s\n",
      "15:\tlearn: 0.3482082\ttotal: 6.03s\tremaining: 12.8s\n",
      "16:\tlearn: 0.3480389\ttotal: 6.38s\tremaining: 12.4s\n",
      "17:\tlearn: 0.3478733\ttotal: 6.75s\tremaining: 12s\n",
      "18:\tlearn: 0.3478695\ttotal: 6.93s\tremaining: 11.3s\n",
      "19:\tlearn: 0.3476923\ttotal: 7.5s\tremaining: 11.2s\n",
      "20:\tlearn: 0.3476277\ttotal: 7.91s\tremaining: 10.9s\n",
      "21:\tlearn: 0.3475802\ttotal: 8.27s\tremaining: 10.5s\n",
      "22:\tlearn: 0.3474938\ttotal: 8.63s\tremaining: 10.1s\n",
      "23:\tlearn: 0.3473950\ttotal: 9s\tremaining: 9.75s\n",
      "24:\tlearn: 0.3473006\ttotal: 9.35s\tremaining: 9.35s\n",
      "25:\tlearn: 0.3472458\ttotal: 9.7s\tremaining: 8.96s\n",
      "26:\tlearn: 0.3471686\ttotal: 10.1s\tremaining: 8.57s\n",
      "27:\tlearn: 0.3470716\ttotal: 10.4s\tremaining: 8.19s\n",
      "28:\tlearn: 0.3469944\ttotal: 10.8s\tremaining: 7.81s\n",
      "29:\tlearn: 0.3469239\ttotal: 11.1s\tremaining: 7.43s\n",
      "30:\tlearn: 0.3468451\ttotal: 11.5s\tremaining: 7.04s\n",
      "31:\tlearn: 0.3467421\ttotal: 11.9s\tremaining: 6.67s\n",
      "32:\tlearn: 0.3466035\ttotal: 12.2s\tremaining: 6.29s\n",
      "33:\tlearn: 0.3465175\ttotal: 12.6s\tremaining: 5.93s\n",
      "34:\tlearn: 0.3464354\ttotal: 13s\tremaining: 5.56s\n",
      "35:\tlearn: 0.3463547\ttotal: 13.3s\tremaining: 5.18s\n",
      "36:\tlearn: 0.3462988\ttotal: 13.7s\tremaining: 4.8s\n",
      "37:\tlearn: 0.3461456\ttotal: 14s\tremaining: 4.43s\n",
      "38:\tlearn: 0.3460859\ttotal: 14.4s\tremaining: 4.06s\n",
      "39:\tlearn: 0.3460083\ttotal: 14.8s\tremaining: 3.69s\n",
      "40:\tlearn: 0.3459221\ttotal: 15.1s\tremaining: 3.32s\n",
      "41:\tlearn: 0.3458310\ttotal: 15.5s\tremaining: 2.95s\n",
      "42:\tlearn: 0.3457661\ttotal: 15.9s\tremaining: 2.58s\n",
      "43:\tlearn: 0.3457128\ttotal: 16.3s\tremaining: 2.21s\n",
      "44:\tlearn: 0.3456213\ttotal: 16.6s\tremaining: 1.84s\n",
      "45:\tlearn: 0.3455439\ttotal: 17s\tremaining: 1.48s\n",
      "46:\tlearn: 0.3454882\ttotal: 17.3s\tremaining: 1.11s\n",
      "47:\tlearn: 0.3453389\ttotal: 17.7s\tremaining: 738ms\n",
      "48:\tlearn: 0.3452732\ttotal: 18.1s\tremaining: 370ms\n",
      "49:\tlearn: 0.3451512\ttotal: 18.7s\tremaining: 0us\n"
     ]
    },
    {
     "data": {
      "text/plain": [
       "<catboost.core.CatBoostClassifier at 0x7f33952c9690>"
      ]
     },
     "execution_count": 35,
     "metadata": {},
     "output_type": "execute_result"
    }
   ],
   "source": [
    "object_cols_2 = list(categotical_columns_2)\n",
    "\n",
    "catboost_2 = CatBoostClassifier(iterations = 50)\n",
    "\n",
    "catboost_2.fit(X_train_2, y_train, object_cols_2)"
   ]
  },
  {
   "cell_type": "code",
   "execution_count": 36,
   "id": "7447cf9e",
   "metadata": {
    "execution": {
     "iopub.execute_input": "2023-03-02T17:02:08.026522Z",
     "iopub.status.busy": "2023-03-02T17:02:08.025843Z",
     "iopub.status.idle": "2023-03-02T17:02:09.239909Z",
     "shell.execute_reply": "2023-03-02T17:02:09.237961Z",
     "shell.execute_reply.started": "2023-03-02T17:02:08.026461Z"
    }
   },
   "outputs": [
    {
     "name": "stdout",
     "output_type": "stream",
     "text": [
      "Quality on train_2: 0.648603903483674\n",
      "Quality on test_2: 0.6305610088127533\n"
     ]
    }
   ],
   "source": [
    "print(f\"Quality on train_2: {roc_auc_score(y_train, catboost_2.predict_proba(X_train_2)[:, 1])}\")\n",
    "print(f\"Quality on test_2: {roc_auc_score(y_test, catboost_2.predict_proba(X_test_2)[:, 1])}\")"
   ]
  },
  {
   "cell_type": "code",
   "execution_count": 37,
   "id": "bf8ebe14",
   "metadata": {
    "execution": {
     "iopub.execute_input": "2023-03-02T17:02:09.241839Z",
     "iopub.status.busy": "2023-03-02T17:02:09.241446Z",
     "iopub.status.idle": "2023-03-02T17:02:09.594438Z",
     "shell.execute_reply": "2023-03-02T17:02:09.593405Z",
     "shell.execute_reply.started": "2023-03-02T17:02:09.241800Z"
    }
   },
   "outputs": [
    {
     "data": {
      "image/png": "[encoded data removed]",
      "text/plain": [
       "<Figure size 1000x800 with 1 Axes>"
      ]
     },
     "metadata": {},
     "output_type": "display_data"
    }
   ],
   "source": [
    "plot_feature_importance(catboost_2.feature_importances_,X_train_2.columns,'Catboost_model2')"
   ]
  },
  {
   "cell_type": "markdown",
   "id": "5a8ce85f",
   "metadata": {},
   "source": [
    "# Loading data to server"
   ]
  },
  {
   "cell_type": "code",
   "execution_count": 38,
   "id": "33482313",
   "metadata": {
    "execution": {
     "iopub.execute_input": "2023-03-02T17:02:09.596795Z",
     "iopub.status.busy": "2023-03-02T17:02:09.596079Z",
     "iopub.status.idle": "2023-03-02T17:02:09.600957Z",
     "shell.execute_reply": "2023-03-02T17:02:09.599877Z",
     "shell.execute_reply.started": "2023-03-02T17:02:09.596754Z"
    }
   },
   "outputs": [],
   "source": [
    "catboost_2.save_model(\n",
    "    'There is must be model name',\n",
    "    format=\"cbm\"                  "
   ]
  },
  {
   "cell_type": "code",
   "execution_count": 39,
   "id": "b5fe6d22",
   "metadata": {
    "execution": {
     "iopub.execute_input": "2023-03-02T17:02:09.603419Z",
     "iopub.status.busy": "2023-03-02T17:02:09.602699Z",
     "iopub.status.idle": "2023-03-02T17:02:09.612099Z",
     "shell.execute_reply": "2023-03-02T17:02:09.611063Z",
     "shell.execute_reply.started": "2023-03-02T17:02:09.603382Z"
    }
   },
   "outputs": [],
   "source": [
    "# #Connection to server\n",
    "from sqlalchemy import create_engine\n",
    "\n",
    "engine = create_engine(connection)"
   ]
  },
  {
   "cell_type": "code",
   "execution_count": 40,
   "id": "9dbe56a5",
   "metadata": {
    "execution": {
     "iopub.execute_input": "2023-03-02T17:02:09.614022Z",
     "iopub.status.busy": "2023-03-02T17:02:09.613646Z",
     "iopub.status.idle": "2023-03-02T17:02:09.622575Z",
     "shell.execute_reply": "2023-03-02T17:02:09.621536Z",
     "shell.execute_reply.started": "2023-03-02T17:02:09.613985Z"
    }
   },
   "outputs": [],
   "source": [
    "user_sql = user_data.iloc[:, [0,2,4,7,9]]\n",
    "posts_sql = posts.drop([\n",
    "    'MaxTfIdf', 'MeanTfIdf', \n",
    "    'TextCluster', 'DistanceTo7thCluster', \n",
    "    'DistanceTo8thCluster'\n",
    "], axis=1)"
   ]
  },
  {
   "cell_type": "code",
   "execution_count": 41,
   "id": "b5fa598a",
   "metadata": {
    "execution": {
     "iopub.execute_input": "2023-03-02T17:02:09.624828Z",
     "iopub.status.busy": "2023-03-02T17:02:09.624394Z",
     "iopub.status.idle": "2023-03-02T17:02:09.633635Z",
     "shell.execute_reply": "2023-03-02T17:02:09.632702Z",
     "shell.execute_reply.started": "2023-03-02T17:02:09.624791Z"
    }
   },
   "outputs": [],
   "source": [
    "user_sql.to_sql('There must be a name for users data', con=engine)\n",
    "posts_sql.to_sql('There must be a name for posts data', con=engine)"
   ]
  }
 ],
 "metadata": {
  "kernelspec": {
   "display_name": "Python 3",
   "language": "python",
   "name": "python3"
  },
  "language_info": {
   "codemirror_mode": {
    "name": "ipython",
    "version": 3
   },
   "file_extension": ".py",
   "mimetype": "text/x-python",
   "name": "python",
   "nbconvert_exporter": "python",
   "pygments_lexer": "ipython3",
   "version": "3.8.8"
  }
 },
 "nbformat": 4,
 "nbformat_minor": 5
}
